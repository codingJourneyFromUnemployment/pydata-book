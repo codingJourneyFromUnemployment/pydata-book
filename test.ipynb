{
 "cells": [
  {
   "cell_type": "code",
   "execution_count": 2,
   "id": "ca4bdce9",
   "metadata": {},
   "outputs": [
    {
     "data": {
      "text/plain": [
       "'/home/ty/miniconda3/envs/pydata-book/bin/python'"
      ]
     },
     "execution_count": 2,
     "metadata": {},
     "output_type": "execute_result"
    }
   ],
   "source": [
    "import sys\n",
    "sys.executable"
   ]
  },
  {
   "cell_type": "code",
   "execution_count": 4,
   "id": "648f8a2d",
   "metadata": {},
   "outputs": [
    {
     "data": {
      "text/plain": [
       "[1, 2, 3]"
      ]
     },
     "execution_count": 4,
     "metadata": {},
     "output_type": "execute_result"
    }
   ],
   "source": [
    "a = [1,2,3]\n",
    "b = a\n",
    "b"
   ]
  },
  {
   "cell_type": "code",
   "execution_count": 5,
   "id": "e7372da5",
   "metadata": {},
   "outputs": [
    {
     "data": {
      "text/plain": [
       "[1, 2, 3, 4]"
      ]
     },
     "execution_count": 5,
     "metadata": {},
     "output_type": "execute_result"
    }
   ],
   "source": [
    "def append_element(some_list, element):\n",
    "  some_list.append(element)\n",
    "\n",
    "append_element(a, 4)\n",
    "a"
   ]
  },
  {
   "cell_type": "code",
   "execution_count": 10,
   "id": "d53c10a4",
   "metadata": {},
   "outputs": [
    {
     "data": {
      "text/plain": [
       "False"
      ]
     },
     "execution_count": 10,
     "metadata": {},
     "output_type": "execute_result"
    }
   ],
   "source": [
    "a = 5\n",
    "type(a)\n",
    "a = 5.0\n",
    "type(a)\n",
    "isinstance(a, int)"
   ]
  },
  {
   "cell_type": "code",
   "execution_count": 15,
   "id": "a73e85ad",
   "metadata": {},
   "outputs": [
    {
     "name": "stdout",
     "output_type": "stream",
     "text": [
      "True\n",
      "True\n"
     ]
    }
   ],
   "source": [
    "a =5\n",
    "b = 4.5\n",
    "print(isinstance(a, (int, float)))\n",
    "print(isinstance(b, (int, float)))"
   ]
  },
  {
   "cell_type": "code",
   "execution_count": 17,
   "id": "18a4b459",
   "metadata": {},
   "outputs": [
    {
     "name": "stdout",
     "output_type": "stream",
     "text": [
      "True\n",
      "True\n",
      "False\n",
      "False\n"
     ]
    }
   ],
   "source": [
    "def isiterable(obj):\n",
    "  try:\n",
    "    iter(obj)\n",
    "    return True\n",
    "  except TypeError:\n",
    "    return False\n",
    "    \n",
    "print(isiterable([1,2,3]))\n",
    "print(isiterable(\"hello\"))\n",
    "print(isiterable(5))\n",
    "print(isiterable(5.0))\n"
   ]
  },
  {
   "cell_type": "code",
   "execution_count": 18,
   "id": "85b0928b",
   "metadata": {},
   "outputs": [
    {
     "name": "stdout",
     "output_type": "stream",
     "text": [
      "3.14159\n",
      "7\n"
     ]
    }
   ],
   "source": [
    "import some_module as sm\n",
    "result = sm.f(5)\n",
    "pi = sm.PI\n",
    "print(pi)\n",
    "print(result)"
   ]
  },
  {
   "cell_type": "code",
   "execution_count": 20,
   "id": "1f92d3af",
   "metadata": {},
   "outputs": [
    {
     "name": "stdout",
     "output_type": "stream",
     "text": [
      "2025-06-01 12:00:00\n"
     ]
    },
    {
     "data": {
      "text/plain": [
       "0"
      ]
     },
     "execution_count": 20,
     "metadata": {},
     "output_type": "execute_result"
    }
   ],
   "source": [
    "from datetime import datetime, date, time\n",
    "\n",
    "dt = datetime(2025, 6, 1, 12, 0, 0)\n",
    "print(dt)\n",
    "dt.day\n",
    "dt.month\n",
    "dt.year\n",
    "dt.hour\n",
    "dt.minute\n",
    "dt.second"
   ]
  },
  {
   "cell_type": "code",
   "execution_count": 21,
   "id": "28489b5d",
   "metadata": {},
   "outputs": [
    {
     "name": "stdout",
     "output_type": "stream",
     "text": [
      "12\n"
     ]
    }
   ],
   "source": [
    "sequence = [1, 2, None, 4, None, 5]\n",
    "total = 0\n",
    "for value in sequence:\n",
    "  if value is None:\n",
    "    continue\n",
    "  total += value\n",
    "\n",
    "print(total)"
   ]
  },
  {
   "cell_type": "code",
   "execution_count": 4,
   "id": "0e2d2b99",
   "metadata": {},
   "outputs": [
    {
     "name": "stdout",
     "output_type": "stream",
     "text": [
      "1\n"
     ]
    }
   ],
   "source": [
    "tup = (1, 2, 3, 4, 5)\n",
    "\n",
    "print(tup[0])\n"
   ]
  },
  {
   "cell_type": "code",
   "execution_count": 9,
   "id": "5dfa4460",
   "metadata": {},
   "outputs": [
    {
     "name": "stdout",
     "output_type": "stream",
     "text": [
      "set1: {1, 2, 3, 4}\n",
      "set2: {1, 2, 3, 4, 5, 6}\n",
      "set3: {1, 2, 3, 4, 5, 6}\n",
      "set4: {1, 2, 3, 4}\n",
      "set5: {1, 2, 3, 4, 5, 6}\n",
      "set6: {1, 2, 3, 4}\n",
      "set7: set()\n",
      "set8: {5, 6}\n"
     ]
    }
   ],
   "source": [
    "set1 = set([1, 2, 3, 4, 1])\n",
    "print(f\"set1: {set1}\")\n",
    "\n",
    "set2 ={1, 2, 3, 4, 5, 6, 1, 2}\n",
    "print(f\"set2: {set2}\")\n",
    "\n",
    "set3 = set1.union(set2)\n",
    "print(f\"set3: {set3}\")\n",
    "\n",
    "set4 = set1.intersection(set2)\n",
    "print(f\"set4: {set4}\")\n",
    "\n",
    "set5 = set1 | set2\n",
    "print(f\"set5: {set5}\")\n",
    "\n",
    "set6 = set1 & set2\n",
    "print(f\"set6: {set6}\")\n",
    "\n",
    "set7 = set1 - set2\n",
    "print(f\"set7: {set7}\")\n",
    "\n",
    "set8 = set1.symmetric_difference(set2)\n",
    "print(f\"set8: {set8}\")\n",
    "\n"
   ]
  }
 ],
 "metadata": {
  "kernelspec": {
   "display_name": "pydata-book",
   "language": "python",
   "name": "python3"
  },
  "language_info": {
   "codemirror_mode": {
    "name": "ipython",
    "version": 3
   },
   "file_extension": ".py",
   "mimetype": "text/x-python",
   "name": "python",
   "nbconvert_exporter": "python",
   "pygments_lexer": "ipython3",
   "version": "3.13.2"
  }
 },
 "nbformat": 4,
 "nbformat_minor": 5
}
