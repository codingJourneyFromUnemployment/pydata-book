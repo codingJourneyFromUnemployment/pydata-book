{
 "cells": [
  {
   "cell_type": "code",
   "execution_count": 2,
   "metadata": {},
   "outputs": [
    {
     "name": "stdout",
     "output_type": "stream",
     "text": [
      "749 μs ± 37.6 μs per loop (mean ± std. dev. of 7 runs, 1,000 loops each)\n",
      "31.4 ms ± 1.41 ms per loop (mean ± std. dev. of 7 runs, 10 loops each)\n"
     ]
    }
   ],
   "source": [
    "import numpy as np\n",
    "\n",
    "my_arr = np.arange(1_000_000)\n",
    "my_list = list(range(1_000_000))\n",
    "\n",
    "%timeit my_arr2 = my_arr * 2\n",
    "%timeit my_list2 = [x * 2 for x in my_list]\n"
   ]
  },
  {
   "cell_type": "code",
   "execution_count": 3,
   "metadata": {},
   "outputs": [
    {
     "name": "stdout",
     "output_type": "stream",
     "text": [
      "[[ 1.5 -0.1  3. ]\n",
      " [ 0.  -3.   6. ]]\n"
     ]
    }
   ],
   "source": [
    "data = np.array([[1.5, -0.1, 3], [0, -3, 6]])\n",
    "print(data)\n",
    "\n",
    "\n"
   ]
  },
  {
   "cell_type": "code",
   "execution_count": 4,
   "metadata": {},
   "outputs": [
    {
     "name": "stdout",
     "output_type": "stream",
     "text": [
      "[[ 15.  -1.  30.]\n",
      " [  0. -30.  60.]]\n",
      "[[ 3.  -0.2  6. ]\n",
      " [ 0.  -6.  12. ]]\n",
      "[[2.25e+00 1.00e-02 9.00e+00]\n",
      " [0.00e+00 9.00e+00 3.60e+01]]\n",
      "(2, 3)\n",
      "float64\n"
     ]
    }
   ],
   "source": [
    "data_0 = data * 10\n",
    "print(data_0)\n",
    "\n",
    "data_1 = data + data\n",
    "print(data_1)\n",
    "\n",
    "data_2 = data * data\n",
    "print(data_2)\n",
    "\n",
    "dataShape = data.shape\n",
    "print(dataShape)\n",
    "\n",
    "dataDtype = data.dtype\n",
    "print(dataDtype)"
   ]
  },
  {
   "cell_type": "code",
   "execution_count": 5,
   "metadata": {},
   "outputs": [
    {
     "name": "stdout",
     "output_type": "stream",
     "text": [
      "[[[ 1.1  2.   3.   4. ]\n",
      "  [ 5.   6.   7.   8. ]\n",
      "  [ 9.  10.  11.  12. ]]\n",
      "\n",
      " [[13.  14.  15.  16. ]\n",
      "  [17.  18.  19.  20. ]\n",
      "  [21.  22.  23.  24. ]]]\n",
      "3\n",
      "(2, 3, 4)\n",
      "24\n",
      "float64\n"
     ]
    }
   ],
   "source": [
    "import numpy as np\n",
    "data_3 = [[[1.1,2,3,4],[5,6,7,8],[9,10,11,12]],[[13,14,15,16],[17,18,19,20],[21,22,23,24]]]\n",
    "\n",
    "arr2 = np.array(data_3)\n",
    "print(arr2)\n",
    "\n",
    "print(arr2.ndim)\n",
    "\n",
    "print(arr2.shape)\n",
    "\n",
    "print(arr2.size)\n",
    "\n",
    "print(arr2.dtype)"
   ]
  },
  {
   "cell_type": "code",
   "execution_count": 6,
   "metadata": {},
   "outputs": [
    {
     "name": "stdout",
     "output_type": "stream",
     "text": [
      "arrZero: [0. 0. 0. 0. 0. 0. 0. 0. 0. 0.]\n",
      "\n",
      "arrZero1: [[0. 0. 0. 0. 0. 0.]\n",
      " [0. 0. 0. 0. 0. 0.]\n",
      " [0. 0. 0. 0. 0. 0.]]\n",
      "\n",
      "arrEmpty: [[[1. 1.]\n",
      "  [1. 1.]\n",
      "  [1. 1.]]\n",
      "\n",
      " [[1. 1.]\n",
      "  [1. 1.]\n",
      "  [1. 1.]]]\n",
      "\n",
      "arrOnes: [[1. 1. 1. 1.]\n",
      " [1. 1. 1. 1.]\n",
      " [1. 1. 1. 1.]]\n",
      "\n"
     ]
    }
   ],
   "source": [
    "import numpy as np\n",
    "arrZero = np.zeros(10)\n",
    "print(f\"arrZero: {arrZero}\\n\")\n",
    "\n",
    "arrZero1 = np.zeros((3,6))\n",
    "print(f\"arrZero1: {arrZero1}\\n\")\n",
    "\n",
    "arrEmpty = np.empty((2,3,2))\n",
    "print(f\"arrEmpty: {arrEmpty}\\n\")\n",
    "\n",
    "arrOnes = np.ones((3,4))\n",
    "print(f\"arrOnes: {arrOnes}\\n\")"
   ]
  },
  {
   "cell_type": "code",
   "execution_count": 10,
   "metadata": {},
   "outputs": [
    {
     "name": "stdout",
     "output_type": "stream",
     "text": [
      "arrArange: [ 0  1  2  3  4  5  6  7  8  9 10 11 12 13 14]\n",
      "\n",
      "arrArange1: [[ 0  1  2  3  4]\n",
      " [ 5  6  7  8  9]\n",
      " [10 11 12 13 14]]\n",
      "\n",
      "arrArange1.dtype: int64\n",
      "\n",
      "float_arr: [[ 0.  1.  2.  3.  4.]\n",
      " [ 5.  6.  7.  8.  9.]\n",
      " [10. 11. 12. 13. 14.]]\n",
      "\n",
      "float_arr.dtype: float64\n",
      "\n",
      "int_arr: [1 2 3]\n",
      "\n",
      "int_arr.dtype: int32\n",
      "\n"
     ]
    }
   ],
   "source": [
    "import numpy as np\n",
    "\n",
    "arrArange = np.arange(15)\n",
    "print(f\"arrArange: {arrArange}\\n\")\n",
    "\n",
    "arrArange1 = np.arange(15).reshape(3,5)\n",
    "print(f\"arrArange1: {arrArange1}\\n\")\n",
    "\n",
    "print(f\"arrArange1.dtype: {arrArange1.dtype}\\n\")\n",
    "\n",
    "float_arr = arrArange1.astype(np.float64)\n",
    "print(f\"float_arr: {float_arr}\\n\")\n",
    "\n",
    "print(f\"float_arr.dtype: {float_arr.dtype}\\n\")\n",
    "\n",
    "float_arr1 = np.array([1.2, 2.3, 3.4])\n",
    "int_arr = float_arr1.astype(np.int32)\n",
    "print(f\"int_arr: {int_arr}\\n\")\n",
    "\n",
    "print(f\"int_arr.dtype: {int_arr.dtype}\\n\")"
   ]
  },
  {
   "cell_type": "code",
   "execution_count": 12,
   "metadata": {},
   "outputs": [
    {
     "name": "stdout",
     "output_type": "stream",
     "text": [
      "int_arr.astype(calibers.dtype): [0. 1. 2. 3. 4. 5. 6. 7. 8. 9.]\n",
      "\n",
      "zeros_uint32: [0 0 0 0 0 0 0 0]\n",
      "\n"
     ]
    }
   ],
   "source": [
    "import numpy as np\n",
    "\n",
    "int_arr = np.arange(10)\n",
    "\n",
    "calibers = np.array([.22, .270, .357, .380, .44, .50, .546, .577, .60, .635], dtype=np.float64)\n",
    "\n",
    "print(f\"int_arr.astype(calibers.dtype): {int_arr.astype(calibers.dtype)}\\n\")\n",
    "\n",
    "zeros_uint32 = np.zeros(8, dtype=\"u4\")\n",
    "print(f\"zeros_uint32: {zeros_uint32}\\n\")"
   ]
  },
  {
   "cell_type": "code",
   "execution_count": null,
   "metadata": {},
   "outputs": [],
   "source": []
  }
 ],
 "metadata": {
  "kernelspec": {
   "display_name": "pydata-book",
   "language": "python",
   "name": "python3"
  },
  "language_info": {
   "codemirror_mode": {
    "name": "ipython",
    "version": 3
   },
   "file_extension": ".py",
   "mimetype": "text/x-python",
   "name": "python",
   "nbconvert_exporter": "python",
   "pygments_lexer": "ipython3",
   "version": "3.13.2"
  }
 },
 "nbformat": 4,
 "nbformat_minor": 2
}
