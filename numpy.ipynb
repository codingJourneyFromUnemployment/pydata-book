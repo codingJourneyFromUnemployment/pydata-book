{
 "cells": [
  {
   "cell_type": "code",
   "execution_count": 2,
   "metadata": {},
   "outputs": [
    {
     "name": "stdout",
     "output_type": "stream",
     "text": [
      "749 μs ± 37.6 μs per loop (mean ± std. dev. of 7 runs, 1,000 loops each)\n",
      "31.4 ms ± 1.41 ms per loop (mean ± std. dev. of 7 runs, 10 loops each)\n"
     ]
    }
   ],
   "source": [
    "import numpy as np\n",
    "\n",
    "my_arr = np.arange(1_000_000)\n",
    "my_list = list(range(1_000_000))\n",
    "\n",
    "%timeit my_arr2 = my_arr * 2\n",
    "%timeit my_list2 = [x * 2 for x in my_list]\n"
   ]
  },
  {
   "cell_type": "code",
   "execution_count": 3,
   "metadata": {},
   "outputs": [
    {
     "name": "stdout",
     "output_type": "stream",
     "text": [
      "[[ 1.5 -0.1  3. ]\n",
      " [ 0.  -3.   6. ]]\n"
     ]
    }
   ],
   "source": [
    "data = np.array([[1.5, -0.1, 3], [0, -3, 6]])\n",
    "print(data)\n",
    "\n",
    "\n"
   ]
  },
  {
   "cell_type": "code",
   "execution_count": 4,
   "metadata": {},
   "outputs": [
    {
     "name": "stdout",
     "output_type": "stream",
     "text": [
      "[[ 15.  -1.  30.]\n",
      " [  0. -30.  60.]]\n",
      "[[ 3.  -0.2  6. ]\n",
      " [ 0.  -6.  12. ]]\n",
      "[[2.25e+00 1.00e-02 9.00e+00]\n",
      " [0.00e+00 9.00e+00 3.60e+01]]\n",
      "(2, 3)\n",
      "float64\n"
     ]
    }
   ],
   "source": [
    "data_0 = data * 10\n",
    "print(data_0)\n",
    "\n",
    "data_1 = data + data\n",
    "print(data_1)\n",
    "\n",
    "data_2 = data * data\n",
    "print(data_2)\n",
    "\n",
    "dataShape = data.shape\n",
    "print(dataShape)\n",
    "\n",
    "dataDtype = data.dtype\n",
    "print(dataDtype)"
   ]
  },
  {
   "cell_type": "code",
   "execution_count": 5,
   "metadata": {},
   "outputs": [
    {
     "name": "stdout",
     "output_type": "stream",
     "text": [
      "[[[ 1.1  2.   3.   4. ]\n",
      "  [ 5.   6.   7.   8. ]\n",
      "  [ 9.  10.  11.  12. ]]\n",
      "\n",
      " [[13.  14.  15.  16. ]\n",
      "  [17.  18.  19.  20. ]\n",
      "  [21.  22.  23.  24. ]]]\n",
      "3\n",
      "(2, 3, 4)\n",
      "24\n",
      "float64\n"
     ]
    }
   ],
   "source": [
    "import numpy as np\n",
    "data_3 = [[[1.1,2,3,4],[5,6,7,8],[9,10,11,12]],[[13,14,15,16],[17,18,19,20],[21,22,23,24]]]\n",
    "\n",
    "arr2 = np.array(data_3)\n",
    "print(arr2)\n",
    "\n",
    "print(arr2.ndim)\n",
    "\n",
    "print(arr2.shape)\n",
    "\n",
    "print(arr2.size)\n",
    "\n",
    "print(arr2.dtype)"
   ]
  },
  {
   "cell_type": "code",
   "execution_count": 6,
   "metadata": {},
   "outputs": [
    {
     "name": "stdout",
     "output_type": "stream",
     "text": [
      "arrZero: [0. 0. 0. 0. 0. 0. 0. 0. 0. 0.]\n",
      "\n",
      "arrZero1: [[0. 0. 0. 0. 0. 0.]\n",
      " [0. 0. 0. 0. 0. 0.]\n",
      " [0. 0. 0. 0. 0. 0.]]\n",
      "\n",
      "arrEmpty: [[[1. 1.]\n",
      "  [1. 1.]\n",
      "  [1. 1.]]\n",
      "\n",
      " [[1. 1.]\n",
      "  [1. 1.]\n",
      "  [1. 1.]]]\n",
      "\n",
      "arrOnes: [[1. 1. 1. 1.]\n",
      " [1. 1. 1. 1.]\n",
      " [1. 1. 1. 1.]]\n",
      "\n"
     ]
    }
   ],
   "source": [
    "import numpy as np\n",
    "arrZero = np.zeros(10)\n",
    "print(f\"arrZero: {arrZero}\\n\")\n",
    "\n",
    "arrZero1 = np.zeros((3,6))\n",
    "print(f\"arrZero1: {arrZero1}\\n\")\n",
    "\n",
    "arrEmpty = np.empty((2,3,2))\n",
    "print(f\"arrEmpty: {arrEmpty}\\n\")\n",
    "\n",
    "arrOnes = np.ones((3,4))\n",
    "print(f\"arrOnes: {arrOnes}\\n\")"
   ]
  },
  {
   "cell_type": "code",
   "execution_count": 10,
   "metadata": {},
   "outputs": [
    {
     "name": "stdout",
     "output_type": "stream",
     "text": [
      "arrArange: [ 0  1  2  3  4  5  6  7  8  9 10 11 12 13 14]\n",
      "\n",
      "arrArange1: [[ 0  1  2  3  4]\n",
      " [ 5  6  7  8  9]\n",
      " [10 11 12 13 14]]\n",
      "\n",
      "arrArange1.dtype: int64\n",
      "\n",
      "float_arr: [[ 0.  1.  2.  3.  4.]\n",
      " [ 5.  6.  7.  8.  9.]\n",
      " [10. 11. 12. 13. 14.]]\n",
      "\n",
      "float_arr.dtype: float64\n",
      "\n",
      "int_arr: [1 2 3]\n",
      "\n",
      "int_arr.dtype: int32\n",
      "\n"
     ]
    }
   ],
   "source": [
    "import numpy as np\n",
    "\n",
    "arrArange = np.arange(15)\n",
    "print(f\"arrArange: {arrArange}\\n\")\n",
    "\n",
    "arrArange1 = np.arange(15).reshape(3,5)\n",
    "print(f\"arrArange1: {arrArange1}\\n\")\n",
    "\n",
    "print(f\"arrArange1.dtype: {arrArange1.dtype}\\n\")\n",
    "\n",
    "float_arr = arrArange1.astype(np.float64)\n",
    "print(f\"float_arr: {float_arr}\\n\")\n",
    "\n",
    "print(f\"float_arr.dtype: {float_arr.dtype}\\n\")\n",
    "\n",
    "float_arr1 = np.array([1.2, 2.3, 3.4])\n",
    "int_arr = float_arr1.astype(np.int32)\n",
    "print(f\"int_arr: {int_arr}\\n\")\n",
    "\n",
    "print(f\"int_arr.dtype: {int_arr.dtype}\\n\")"
   ]
  },
  {
   "cell_type": "code",
   "execution_count": 12,
   "metadata": {},
   "outputs": [
    {
     "name": "stdout",
     "output_type": "stream",
     "text": [
      "int_arr.astype(calibers.dtype): [0. 1. 2. 3. 4. 5. 6. 7. 8. 9.]\n",
      "\n",
      "zeros_uint32: [0 0 0 0 0 0 0 0]\n",
      "\n"
     ]
    }
   ],
   "source": [
    "import numpy as np\n",
    "\n",
    "int_arr = np.arange(10)\n",
    "\n",
    "calibers = np.array([.22, .270, .357, .380, .44, .50, .546, .577, .60, .635], dtype=np.float64)\n",
    "\n",
    "print(f\"int_arr.astype(calibers.dtype): {int_arr.astype(calibers.dtype)}\\n\")\n",
    "\n",
    "zeros_uint32 = np.zeros(8, dtype=\"u4\")\n",
    "print(f\"zeros_uint32: {zeros_uint32}\\n\")"
   ]
  },
  {
   "cell_type": "code",
   "execution_count": 10,
   "metadata": {},
   "outputs": [
    {
     "name": "stdout",
     "output_type": "stream",
     "text": [
      "arrMulti: [[ 1  4  9]\n",
      " [16 25 36]]\n",
      "\n",
      "arrminus: [[0 0 0]\n",
      " [0 0 0]]\n",
      "\n",
      "arr1: [[1.         0.5        0.33333333]\n",
      " [0.25       0.2        0.16666667]]\n",
      "\n",
      "arr2: [[  1   8  27]\n",
      " [ 64 125 216]]\n",
      "\n",
      "arr > arr3: [[ True False  True]\n",
      " [False  True False]]\n",
      "\n"
     ]
    }
   ],
   "source": [
    "import numpy as np\n",
    "\n",
    "arr = np.array([[1, 2, 3], [4, 5, 6]])\n",
    "\n",
    "arrMulti = arr * arr\n",
    "\n",
    "arrminus = arr - arr\n",
    "\n",
    "print(f\"arrMulti: {arrMulti}\\n\")\n",
    "\n",
    "print(f\"arrminus: {arrminus}\\n\")\n",
    "\n",
    "arr1 = 1 / arr\n",
    "\n",
    "print(f\"arr1: {arr1}\\n\")\n",
    "\n",
    "arr2 = arr ** 3\n",
    "\n",
    "print(f\"arr2: {arr2}\\n\")\n",
    "\n",
    "arr3 = np.array([[0., 4., 1.], [7., 2., 12.]])\n",
    "\n",
    "print(f\"arr > arr3: {arr > arr3}\\n\")\n"
   ]
  },
  {
   "cell_type": "code",
   "execution_count": 15,
   "metadata": {},
   "outputs": [
    {
     "name": "stdout",
     "output_type": "stream",
     "text": [
      "arr: [0 1 2 3 4 5 6 7 8 9]\n",
      "\n",
      "arrIndex5: 5\n",
      "\n",
      "arrIndex5_8: [5 6 7]\n",
      "\n",
      "arr: [ 0  1  2  3  4 99  6  7  8  9]\n",
      "\n"
     ]
    }
   ],
   "source": [
    "import numpy as np\n",
    "\n",
    "arr = np.arange(10)\n",
    "\n",
    "print(f\"arr: {arr}\\n\")\n",
    "\n",
    "arrIndex5 = arr[5]\n",
    "\n",
    "print(f\"arrIndex5: {arrIndex5}\\n\")\n",
    "\n",
    "arrIndex5_8 = arr[5:8]\n",
    "\n",
    "print(f\"arrIndex5_8: {arrIndex5_8}\\n\")\n",
    "\n",
    "arrIndex5_8[0] = 99\n",
    "\n",
    "print(f\"arr: {arr}\\n\")\n"
   ]
  },
  {
   "cell_type": "code",
   "execution_count": 18,
   "metadata": {},
   "outputs": [
    {
     "name": "stdout",
     "output_type": "stream",
     "text": [
      "arr2x3[2]: [1 2 3]\n",
      "\n",
      "arr2x3[1][2]: 6\n",
      "\n",
      "arr2x3[1, 2]: 6\n",
      "\n"
     ]
    }
   ],
   "source": [
    "import numpy as np\n",
    "\n",
    "arr2x3 = np.array([[1, 2, 3], [4, 5, 6], [7, 8, 9]])\n",
    "\n",
    "print(f\"arr2x3[2]: {arr2x3[0]}\\n\")\n",
    "\n",
    "print(f\"arr2x3[1][2]: {arr2x3[1][2]}\\n\")\n",
    "\n",
    "print(f\"arr2x3[1, 2]: {arr2x3[1, 2]}\\n\")"
   ]
  },
  {
   "cell_type": "code",
   "execution_count": 11,
   "metadata": {},
   "outputs": [
    {
     "name": "stdout",
     "output_type": "stream",
     "text": [
      "arr3d[0]: [[1 2 3]\n",
      " [4 5 6]]\n",
      "\n",
      "arr3d[1][0]: [7 8 9]\n",
      "\n",
      "arr3d[1, 0, 2]: 9\n",
      "\n",
      "arr3d[0]: [[42 42 42]\n",
      " [42 42 42]]\n",
      "\n",
      "arr3d[0]: [[1 2 3]\n",
      " [4 5 6]]\n",
      "\n",
      "arrSlice1: [[ 7  8  9]\n",
      " [10 11 12]]\n",
      "\n",
      "arrSlice2: [ 9 12]\n",
      "\n",
      "arrSlice3: [10 11 12]\n",
      "\n",
      "arrSlice4: [[[2 3]\n",
      "  [5 6]]]\n",
      "\n"
     ]
    }
   ],
   "source": [
    "import numpy as np\n",
    "\n",
    "arr3d = np.array([[[1, 2, 3], [4, 5, 6]], [[7, 8, 9], [10, 11, 12]]])\n",
    "\n",
    "print(f\"arr3d[0]: {arr3d[0]}\\n\")\n",
    "\n",
    "print(f\"arr3d[1][0]: {arr3d[1][0]}\\n\")\n",
    "\n",
    "print(f\"arr3d[1, 0, 2]: {arr3d[1, 0, 2]}\\n\")\n",
    "\n",
    "old_values = arr3d[0].copy()\n",
    "\n",
    "arr3d[0] = 42\n",
    "\n",
    "print(f\"arr3d[0]: {arr3d[0]}\\n\")\n",
    "\n",
    "arr3d[0] = old_values\n",
    "\n",
    "print(f\"arr3d[0]: {arr3d[0]}\\n\")\n",
    "\n",
    "arrSlice1 = arr3d[1, :, :]\n",
    "\n",
    "print(f\"arrSlice1: {arrSlice1}\\n\")\n",
    "\n",
    "arrSlice2 = arr3d[1, :, 2]\n",
    "\n",
    "print(f\"arrSlice2: {arrSlice2}\\n\")\n",
    "\n",
    "arrSlice3 = arr3d[1, 1, :]\n",
    "\n",
    "print(f\"arrSlice3: {arrSlice3}\\n\")\n",
    "\n",
    "arrSlice4 = arr3d[:1, :2, 1:]\n",
    "\n",
    "print(f\"arrSlice4: {arrSlice4}\\n\")"
   ]
  },
  {
   "cell_type": "code",
   "execution_count": 12,
   "metadata": {},
   "outputs": [
    {
     "name": "stdout",
     "output_type": "stream",
     "text": [
      "names == 'Bob': [ True False False  True False False False]\n",
      "\n",
      "data[names == 'Bob']:\n",
      "[[ 1.4  7.1 -1.2  3.4]\n",
      " [-1.4  4.3 -1.9 -2.8]]\n",
      "\n"
     ]
    }
   ],
   "source": [
    "import numpy as np\n",
    "\n",
    "names = np.array(['Bob', 'Joe', 'Will', 'Bob', 'Will', 'Joe', 'Joe'])\n",
    "\n",
    "data = np.array([[1.4, 7.1, -1.2, 3.4], [1.6, -2.4, 2.7, -3.2], [-1.4, 4.3, -1.9, -2.8], [-1.4, 4.3, -1.9, -2.8], [-1.4, 4.3, -1.9, -2.8], [-1.4, 4.3, -1.9, -2.8], [-1.4, 4.3, -1.9, -2.8]])\n",
    "\n",
    "print(f\"names == 'Bob': {names == 'Bob'}\\n\")\n",
    "\n",
    "print(f\"data[names == 'Bob']:\\n{data[names == 'Bob']}\\n\")\n",
    "\n"
   ]
  },
  {
   "cell_type": "code",
   "execution_count": 28,
   "metadata": {},
   "outputs": [
    {
     "name": "stdout",
     "output_type": "stream",
     "text": [
      "arr1: [[4. 4. 4. 4.]\n",
      " [3. 3. 3. 3.]\n",
      " [0. 0. 0. 0.]\n",
      " [6. 6. 6. 6.]]\n",
      "\n",
      "arr2: [[5. 5. 5. 5.]\n",
      " [3. 3. 3. 3.]\n",
      " [1. 1. 1. 1.]]\n",
      "\n",
      "arr: [[ 0  1  2  3]\n",
      " [ 4  5  6  7]\n",
      " [ 8  9 10 11]\n",
      " [12 13 14 15]\n",
      " [16 17 18 19]\n",
      " [20 21 22 23]\n",
      " [24 25 26 27]\n",
      " [28 29 30 31]]\n",
      "\n",
      "subA: [[ 0  1  2  3]\n",
      " [ 8  9 10 11]\n",
      " [12 13 14 15]]\n",
      "\n",
      "subB: [[ 1  3  2]\n",
      " [ 5  7  6]\n",
      " [ 9 11 10]\n",
      " [13 15 14]\n",
      " [17 19 18]\n",
      " [21 23 22]\n",
      " [25 27 26]\n",
      " [29 31 30]]\n",
      "\n",
      "subC: [ 1 11 14]\n",
      "\n"
     ]
    }
   ],
   "source": [
    "# fancy indexing\n",
    "\n",
    "import numpy as np\n",
    "\n",
    "arr = np.zeros((8, 4))\n",
    "for i in range(8):\n",
    "    arr[i] = i\n",
    "    \n",
    "arr1 = arr[[4, 3, 0, 6]]\n",
    "\n",
    "print(f\"arr1: {arr1}\\n\")\n",
    "\n",
    "arr2 = arr[[-3, -5, -7]]\n",
    "\n",
    "print(f\"arr2: {arr2}\\n\")\n",
    "\n",
    "arr = np.arange(32).reshape((8, 4))\n",
    "\n",
    "print(f\"arr: {arr}\\n\")\n",
    "\n",
    "rows = [0, 2, 3]\n",
    "\n",
    "subA = arr[rows, :]\n",
    "\n",
    "print(f\"subA: {subA}\\n\")\n",
    "\n",
    "cols = [1, 3, 2]\n",
    "\n",
    "subB = arr[:, cols]\n",
    "\n",
    "print(f\"subB: {subB}\\n\")\n",
    "\n",
    "subC = arr[rows, cols]\n",
    "\n",
    "print(f\"subC: {subC}\\n\")"
   ]
  },
  {
   "cell_type": "code",
   "execution_count": 29,
   "metadata": {},
   "outputs": [
    {
     "name": "stdout",
     "output_type": "stream",
     "text": [
      "arr: [[ 0  1  2  3  4]\n",
      " [ 5  6  7  8  9]\n",
      " [10 11 12 13 14]]\n",
      "\n",
      "arrTranspose: [[ 0  5 10]\n",
      " [ 1  6 11]\n",
      " [ 2  7 12]\n",
      " [ 3  8 13]\n",
      " [ 4  9 14]]\n",
      "\n"
     ]
    }
   ],
   "source": [
    "# Transposing arrays and swapping axes\n",
    "import numpy as np\n",
    "\n",
    "arr = np.arange(15).reshape((3, 5))\n",
    "\n",
    "print(f\"arr: {arr}\\n\")\n",
    "\n",
    "arrTranspose = arr.T\n",
    "\n",
    "print(f\"arrTranspose: {arrTranspose}\\n\")\n",
    "\n",
    "\n",
    "\n"
   ]
  }
 ],
 "metadata": {
  "kernelspec": {
   "display_name": "pydata-book",
   "language": "python",
   "name": "python3"
  },
  "language_info": {
   "codemirror_mode": {
    "name": "ipython",
    "version": 3
   },
   "file_extension": ".py",
   "mimetype": "text/x-python",
   "name": "python",
   "nbconvert_exporter": "python",
   "pygments_lexer": "ipython3",
   "version": "3.13.2"
  }
 },
 "nbformat": 4,
 "nbformat_minor": 2
}
